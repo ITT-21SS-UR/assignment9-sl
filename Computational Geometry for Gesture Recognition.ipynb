{
 "cells": [
  {
   "cell_type": "markdown",
   "metadata": {},
   "source": [
    "# Computational Geometry (for Gesture Recognition)"
   ]
  },
  {
   "cell_type": "markdown",
   "metadata": {},
   "source": [
    "Our overall goal: recognize gestures drawn with the Wiimote or a light pen or the mouse on a canvas"
   ]
  },
  {
   "cell_type": "markdown",
   "metadata": {},
   "source": [
    "## Example: \\$1 Gesture Recognizer (Wobbrock et al. )\n",
    "\n",
    "https://depts.washington.edu/aimgroup/proj/dollar/\n",
    "\n",
    " * Step 1: resample path into 64 evenly spaced points\n",
    "  * find total length of original path, divide by 64 = step size\n",
    "  * follow original path, create new point after step size\n",
    " * Step 2: correct angle\n",
    "  * find centroid of points\n",
    "  * shift all points so that centroid is at (0,0)\n",
    "  * find angle a between centroid and first point\n",
    "  * rotate all points by -a\n",
    " * Step 3: correct size\n",
    "  * find size of bounding box\n",
    "  * scale all points so that BB size is (100,100)\n",
    " * Step 4: compare to templates\n",
    "  * for each template:\n",
    "    * for each point:\n",
    "      * calculate distance between template point and current point\n",
    "      * add to total distance\n",
    "  * return template with minimum total distance\n",
    "\n",
    "![Image: one_dollar](img/one_dollar.svg)"
   ]
  },
  {
   "cell_type": "code",
   "execution_count": 4,
   "metadata": {},
   "outputs": [
    {
     "output_type": "stream",
     "name": "stdout",
     "text": [
      "Populating the interactive namespace from numpy and matplotlib\n"
     ]
    },
    {
     "output_type": "display_data",
     "data": {
      "text/plain": "<Figure size 432x288 with 1 Axes>",
      "image/svg+xml": "<?xml version=\"1.0\" encoding=\"utf-8\" standalone=\"no\"?>\n<!DOCTYPE svg PUBLIC \"-//W3C//DTD SVG 1.1//EN\"\n  \"http://www.w3.org/Graphics/SVG/1.1/DTD/svg11.dtd\">\n<!-- Created with matplotlib (https://matplotlib.org/) -->\n<svg height=\"252.317344pt\" version=\"1.1\" viewBox=\"0 0 380.054687 252.317344\" width=\"380.054687pt\" xmlns=\"http://www.w3.org/2000/svg\" xmlns:xlink=\"http://www.w3.org/1999/xlink\">\n <defs>\n  <style type=\"text/css\">\n*{stroke-linecap:butt;stroke-linejoin:round;}\n  </style>\n </defs>\n <g id=\"figure_1\">\n  <g id=\"patch_1\">\n   <path d=\"M 0 252.317344 \nL 380.054687 252.317344 \nL 380.054687 0 \nL 0 0 \nz\n\" style=\"fill:none;\"/>\n  </g>\n  <g id=\"axes_1\">\n   <g id=\"patch_2\">\n    <path d=\"M 30.103125 228.439219 \nL 364.903125 228.439219 \nL 364.903125 10.999219 \nL 30.103125 10.999219 \nz\n\" style=\"fill:#ffffff;\"/>\n   </g>\n   <g id=\"matplotlib.axis_1\">\n    <g id=\"xtick_1\">\n     <g id=\"line2d_1\">\n      <defs>\n       <path d=\"M 0 0 \nL 0 3.5 \n\" id=\"m9b2e94d082\" style=\"stroke:#000000;stroke-width:0.8;\"/>\n      </defs>\n      <g>\n       <use style=\"stroke:#000000;stroke-width:0.8;\" x=\"30.103125\" xlink:href=\"#m9b2e94d082\" y=\"228.439219\"/>\n      </g>\n     </g>\n     <g id=\"text_1\">\n      <!-- 0.0 -->\n      <defs>\n       <path d=\"M 31.78125 66.40625 \nQ 24.171875 66.40625 20.328125 58.90625 \nQ 16.5 51.421875 16.5 36.375 \nQ 16.5 21.390625 20.328125 13.890625 \nQ 24.171875 6.390625 31.78125 6.390625 \nQ 39.453125 6.390625 43.28125 13.890625 \nQ 47.125 21.390625 47.125 36.375 \nQ 47.125 51.421875 43.28125 58.90625 \nQ 39.453125 66.40625 31.78125 66.40625 \nz\nM 31.78125 74.21875 \nQ 44.046875 74.21875 50.515625 64.515625 \nQ 56.984375 54.828125 56.984375 36.375 \nQ 56.984375 17.96875 50.515625 8.265625 \nQ 44.046875 -1.421875 31.78125 -1.421875 \nQ 19.53125 -1.421875 13.0625 8.265625 \nQ 6.59375 17.96875 6.59375 36.375 \nQ 6.59375 54.828125 13.0625 64.515625 \nQ 19.53125 74.21875 31.78125 74.21875 \nz\n\" id=\"DejaVuSans-48\"/>\n       <path d=\"M 10.6875 12.40625 \nL 21 12.40625 \nL 21 0 \nL 10.6875 0 \nz\n\" id=\"DejaVuSans-46\"/>\n      </defs>\n      <g transform=\"translate(22.151563 243.037656)scale(0.1 -0.1)\">\n       <use xlink:href=\"#DejaVuSans-48\"/>\n       <use x=\"63.623047\" xlink:href=\"#DejaVuSans-46\"/>\n       <use x=\"95.410156\" xlink:href=\"#DejaVuSans-48\"/>\n      </g>\n     </g>\n    </g>\n    <g id=\"xtick_2\">\n     <g id=\"line2d_2\">\n      <g>\n       <use style=\"stroke:#000000;stroke-width:0.8;\" x=\"97.063125\" xlink:href=\"#m9b2e94d082\" y=\"228.439219\"/>\n      </g>\n     </g>\n     <g id=\"text_2\">\n      <!-- 0.2 -->\n      <defs>\n       <path d=\"M 19.1875 8.296875 \nL 53.609375 8.296875 \nL 53.609375 0 \nL 7.328125 0 \nL 7.328125 8.296875 \nQ 12.9375 14.109375 22.625 23.890625 \nQ 32.328125 33.6875 34.8125 36.53125 \nQ 39.546875 41.84375 41.421875 45.53125 \nQ 43.3125 49.21875 43.3125 52.78125 \nQ 43.3125 58.59375 39.234375 62.25 \nQ 35.15625 65.921875 28.609375 65.921875 \nQ 23.96875 65.921875 18.8125 64.3125 \nQ 13.671875 62.703125 7.8125 59.421875 \nL 7.8125 69.390625 \nQ 13.765625 71.78125 18.9375 73 \nQ 24.125 74.21875 28.421875 74.21875 \nQ 39.75 74.21875 46.484375 68.546875 \nQ 53.21875 62.890625 53.21875 53.421875 \nQ 53.21875 48.921875 51.53125 44.890625 \nQ 49.859375 40.875 45.40625 35.40625 \nQ 44.1875 33.984375 37.640625 27.21875 \nQ 31.109375 20.453125 19.1875 8.296875 \nz\n\" id=\"DejaVuSans-50\"/>\n      </defs>\n      <g transform=\"translate(89.111563 243.037656)scale(0.1 -0.1)\">\n       <use xlink:href=\"#DejaVuSans-48\"/>\n       <use x=\"63.623047\" xlink:href=\"#DejaVuSans-46\"/>\n       <use x=\"95.410156\" xlink:href=\"#DejaVuSans-50\"/>\n      </g>\n     </g>\n    </g>\n    <g id=\"xtick_3\">\n     <g id=\"line2d_3\">\n      <g>\n       <use style=\"stroke:#000000;stroke-width:0.8;\" x=\"164.023125\" xlink:href=\"#m9b2e94d082\" y=\"228.439219\"/>\n      </g>\n     </g>\n     <g id=\"text_3\">\n      <!-- 0.4 -->\n      <defs>\n       <path d=\"M 37.796875 64.3125 \nL 12.890625 25.390625 \nL 37.796875 25.390625 \nz\nM 35.203125 72.90625 \nL 47.609375 72.90625 \nL 47.609375 25.390625 \nL 58.015625 25.390625 \nL 58.015625 17.1875 \nL 47.609375 17.1875 \nL 47.609375 0 \nL 37.796875 0 \nL 37.796875 17.1875 \nL 4.890625 17.1875 \nL 4.890625 26.703125 \nz\n\" id=\"DejaVuSans-52\"/>\n      </defs>\n      <g transform=\"translate(156.071563 243.037656)scale(0.1 -0.1)\">\n       <use xlink:href=\"#DejaVuSans-48\"/>\n       <use x=\"63.623047\" xlink:href=\"#DejaVuSans-46\"/>\n       <use x=\"95.410156\" xlink:href=\"#DejaVuSans-52\"/>\n      </g>\n     </g>\n    </g>\n    <g id=\"xtick_4\">\n     <g id=\"line2d_4\">\n      <g>\n       <use style=\"stroke:#000000;stroke-width:0.8;\" x=\"230.983125\" xlink:href=\"#m9b2e94d082\" y=\"228.439219\"/>\n      </g>\n     </g>\n     <g id=\"text_4\">\n      <!-- 0.6 -->\n      <defs>\n       <path d=\"M 33.015625 40.375 \nQ 26.375 40.375 22.484375 35.828125 \nQ 18.609375 31.296875 18.609375 23.390625 \nQ 18.609375 15.53125 22.484375 10.953125 \nQ 26.375 6.390625 33.015625 6.390625 \nQ 39.65625 6.390625 43.53125 10.953125 \nQ 47.40625 15.53125 47.40625 23.390625 \nQ 47.40625 31.296875 43.53125 35.828125 \nQ 39.65625 40.375 33.015625 40.375 \nz\nM 52.59375 71.296875 \nL 52.59375 62.3125 \nQ 48.875 64.0625 45.09375 64.984375 \nQ 41.3125 65.921875 37.59375 65.921875 \nQ 27.828125 65.921875 22.671875 59.328125 \nQ 17.53125 52.734375 16.796875 39.40625 \nQ 19.671875 43.65625 24.015625 45.921875 \nQ 28.375 48.1875 33.59375 48.1875 \nQ 44.578125 48.1875 50.953125 41.515625 \nQ 57.328125 34.859375 57.328125 23.390625 \nQ 57.328125 12.15625 50.6875 5.359375 \nQ 44.046875 -1.421875 33.015625 -1.421875 \nQ 20.359375 -1.421875 13.671875 8.265625 \nQ 6.984375 17.96875 6.984375 36.375 \nQ 6.984375 53.65625 15.1875 63.9375 \nQ 23.390625 74.21875 37.203125 74.21875 \nQ 40.921875 74.21875 44.703125 73.484375 \nQ 48.484375 72.75 52.59375 71.296875 \nz\n\" id=\"DejaVuSans-54\"/>\n      </defs>\n      <g transform=\"translate(223.031563 243.037656)scale(0.1 -0.1)\">\n       <use xlink:href=\"#DejaVuSans-48\"/>\n       <use x=\"63.623047\" xlink:href=\"#DejaVuSans-46\"/>\n       <use x=\"95.410156\" xlink:href=\"#DejaVuSans-54\"/>\n      </g>\n     </g>\n    </g>\n    <g id=\"xtick_5\">\n     <g id=\"line2d_5\">\n      <g>\n       <use style=\"stroke:#000000;stroke-width:0.8;\" x=\"297.943125\" xlink:href=\"#m9b2e94d082\" y=\"228.439219\"/>\n      </g>\n     </g>\n     <g id=\"text_5\">\n      <!-- 0.8 -->\n      <defs>\n       <path d=\"M 31.78125 34.625 \nQ 24.75 34.625 20.71875 30.859375 \nQ 16.703125 27.09375 16.703125 20.515625 \nQ 16.703125 13.921875 20.71875 10.15625 \nQ 24.75 6.390625 31.78125 6.390625 \nQ 38.8125 6.390625 42.859375 10.171875 \nQ 46.921875 13.96875 46.921875 20.515625 \nQ 46.921875 27.09375 42.890625 30.859375 \nQ 38.875 34.625 31.78125 34.625 \nz\nM 21.921875 38.8125 \nQ 15.578125 40.375 12.03125 44.71875 \nQ 8.5 49.078125 8.5 55.328125 \nQ 8.5 64.0625 14.71875 69.140625 \nQ 20.953125 74.21875 31.78125 74.21875 \nQ 42.671875 74.21875 48.875 69.140625 \nQ 55.078125 64.0625 55.078125 55.328125 \nQ 55.078125 49.078125 51.53125 44.71875 \nQ 48 40.375 41.703125 38.8125 \nQ 48.828125 37.15625 52.796875 32.3125 \nQ 56.78125 27.484375 56.78125 20.515625 \nQ 56.78125 9.90625 50.3125 4.234375 \nQ 43.84375 -1.421875 31.78125 -1.421875 \nQ 19.734375 -1.421875 13.25 4.234375 \nQ 6.78125 9.90625 6.78125 20.515625 \nQ 6.78125 27.484375 10.78125 32.3125 \nQ 14.796875 37.15625 21.921875 38.8125 \nz\nM 18.3125 54.390625 \nQ 18.3125 48.734375 21.84375 45.5625 \nQ 25.390625 42.390625 31.78125 42.390625 \nQ 38.140625 42.390625 41.71875 45.5625 \nQ 45.3125 48.734375 45.3125 54.390625 \nQ 45.3125 60.0625 41.71875 63.234375 \nQ 38.140625 66.40625 31.78125 66.40625 \nQ 25.390625 66.40625 21.84375 63.234375 \nQ 18.3125 60.0625 18.3125 54.390625 \nz\n\" id=\"DejaVuSans-56\"/>\n      </defs>\n      <g transform=\"translate(289.991563 243.037656)scale(0.1 -0.1)\">\n       <use xlink:href=\"#DejaVuSans-48\"/>\n       <use x=\"63.623047\" xlink:href=\"#DejaVuSans-46\"/>\n       <use x=\"95.410156\" xlink:href=\"#DejaVuSans-56\"/>\n      </g>\n     </g>\n    </g>\n    <g id=\"xtick_6\">\n     <g id=\"line2d_6\">\n      <g>\n       <use style=\"stroke:#000000;stroke-width:0.8;\" x=\"364.903125\" xlink:href=\"#m9b2e94d082\" y=\"228.439219\"/>\n      </g>\n     </g>\n     <g id=\"text_6\">\n      <!-- 1.0 -->\n      <defs>\n       <path d=\"M 12.40625 8.296875 \nL 28.515625 8.296875 \nL 28.515625 63.921875 \nL 10.984375 60.40625 \nL 10.984375 69.390625 \nL 28.421875 72.90625 \nL 38.28125 72.90625 \nL 38.28125 8.296875 \nL 54.390625 8.296875 \nL 54.390625 0 \nL 12.40625 0 \nz\n\" id=\"DejaVuSans-49\"/>\n      </defs>\n      <g transform=\"translate(356.951563 243.037656)scale(0.1 -0.1)\">\n       <use xlink:href=\"#DejaVuSans-49\"/>\n       <use x=\"63.623047\" xlink:href=\"#DejaVuSans-46\"/>\n       <use x=\"95.410156\" xlink:href=\"#DejaVuSans-48\"/>\n      </g>\n     </g>\n    </g>\n   </g>\n   <g id=\"matplotlib.axis_2\">\n    <g id=\"ytick_1\">\n     <g id=\"line2d_7\">\n      <defs>\n       <path d=\"M 0 0 \nL -3.5 0 \n\" id=\"m829cea66bf\" style=\"stroke:#000000;stroke-width:0.8;\"/>\n      </defs>\n      <g>\n       <use style=\"stroke:#000000;stroke-width:0.8;\" x=\"30.103125\" xlink:href=\"#m829cea66bf\" y=\"10.999219\"/>\n      </g>\n     </g>\n     <g id=\"text_7\">\n      <!-- 0.0 -->\n      <g transform=\"translate(7.2 14.798437)scale(0.1 -0.1)\">\n       <use xlink:href=\"#DejaVuSans-48\"/>\n       <use x=\"63.623047\" xlink:href=\"#DejaVuSans-46\"/>\n       <use x=\"95.410156\" xlink:href=\"#DejaVuSans-48\"/>\n      </g>\n     </g>\n    </g>\n    <g id=\"ytick_2\">\n     <g id=\"line2d_8\">\n      <g>\n       <use style=\"stroke:#000000;stroke-width:0.8;\" x=\"30.103125\" xlink:href=\"#m829cea66bf\" y=\"54.487219\"/>\n      </g>\n     </g>\n     <g id=\"text_8\">\n      <!-- 0.2 -->\n      <g transform=\"translate(7.2 58.286437)scale(0.1 -0.1)\">\n       <use xlink:href=\"#DejaVuSans-48\"/>\n       <use x=\"63.623047\" xlink:href=\"#DejaVuSans-46\"/>\n       <use x=\"95.410156\" xlink:href=\"#DejaVuSans-50\"/>\n      </g>\n     </g>\n    </g>\n    <g id=\"ytick_3\">\n     <g id=\"line2d_9\">\n      <g>\n       <use style=\"stroke:#000000;stroke-width:0.8;\" x=\"30.103125\" xlink:href=\"#m829cea66bf\" y=\"97.975219\"/>\n      </g>\n     </g>\n     <g id=\"text_9\">\n      <!-- 0.4 -->\n      <g transform=\"translate(7.2 101.774437)scale(0.1 -0.1)\">\n       <use xlink:href=\"#DejaVuSans-48\"/>\n       <use x=\"63.623047\" xlink:href=\"#DejaVuSans-46\"/>\n       <use x=\"95.410156\" xlink:href=\"#DejaVuSans-52\"/>\n      </g>\n     </g>\n    </g>\n    <g id=\"ytick_4\">\n     <g id=\"line2d_10\">\n      <g>\n       <use style=\"stroke:#000000;stroke-width:0.8;\" x=\"30.103125\" xlink:href=\"#m829cea66bf\" y=\"141.463219\"/>\n      </g>\n     </g>\n     <g id=\"text_10\">\n      <!-- 0.6 -->\n      <g transform=\"translate(7.2 145.262438)scale(0.1 -0.1)\">\n       <use xlink:href=\"#DejaVuSans-48\"/>\n       <use x=\"63.623047\" xlink:href=\"#DejaVuSans-46\"/>\n       <use x=\"95.410156\" xlink:href=\"#DejaVuSans-54\"/>\n      </g>\n     </g>\n    </g>\n    <g id=\"ytick_5\">\n     <g id=\"line2d_11\">\n      <g>\n       <use style=\"stroke:#000000;stroke-width:0.8;\" x=\"30.103125\" xlink:href=\"#m829cea66bf\" y=\"184.951219\"/>\n      </g>\n     </g>\n     <g id=\"text_11\">\n      <!-- 0.8 -->\n      <g transform=\"translate(7.2 188.750437)scale(0.1 -0.1)\">\n       <use xlink:href=\"#DejaVuSans-48\"/>\n       <use x=\"63.623047\" xlink:href=\"#DejaVuSans-46\"/>\n       <use x=\"95.410156\" xlink:href=\"#DejaVuSans-56\"/>\n      </g>\n     </g>\n    </g>\n    <g id=\"ytick_6\">\n     <g id=\"line2d_12\">\n      <g>\n       <use style=\"stroke:#000000;stroke-width:0.8;\" x=\"30.103125\" xlink:href=\"#m829cea66bf\" y=\"228.439219\"/>\n      </g>\n     </g>\n     <g id=\"text_12\">\n      <!-- 1.0 -->\n      <g transform=\"translate(7.2 232.238437)scale(0.1 -0.1)\">\n       <use xlink:href=\"#DejaVuSans-49\"/>\n       <use x=\"63.623047\" xlink:href=\"#DejaVuSans-46\"/>\n       <use x=\"95.410156\" xlink:href=\"#DejaVuSans-48\"/>\n      </g>\n     </g>\n    </g>\n   </g>\n   <g id=\"patch_3\">\n    <path d=\"M 30.103125 228.439219 \nL 30.103125 10.999219 \n\" style=\"fill:none;stroke:#000000;stroke-linecap:square;stroke-linejoin:miter;stroke-width:0.8;\"/>\n   </g>\n   <g id=\"patch_4\">\n    <path d=\"M 364.903125 228.439219 \nL 364.903125 10.999219 \n\" style=\"fill:none;stroke:#000000;stroke-linecap:square;stroke-linejoin:miter;stroke-width:0.8;\"/>\n   </g>\n   <g id=\"patch_5\">\n    <path d=\"M 30.103125 228.439219 \nL 364.903125 228.439219 \n\" style=\"fill:none;stroke:#000000;stroke-linecap:square;stroke-linejoin:miter;stroke-width:0.8;\"/>\n   </g>\n   <g id=\"patch_6\">\n    <path d=\"M 30.103125 10.999219 \nL 364.903125 10.999219 \n\" style=\"fill:none;stroke:#000000;stroke-linecap:square;stroke-linejoin:miter;stroke-width:0.8;\"/>\n   </g>\n  </g>\n </g>\n</svg>\n"
     },
     "metadata": {
      "needs_background": "light"
     }
    }
   ],
   "source": [
    "%pylab inline\n",
    "%config InlineBackend.figure_format='svg'\n",
    "plt.gca().invert_yaxis() # use screen coordinate system\n",
    "# integrate qt5 event loop\n",
    "%gui qt5\n",
    "# only execute the next cell once this cell has been completely executed (i.e., the `[*]` has turned into `[2]`)"
   ]
  },
  {
   "cell_type": "code",
   "execution_count": 5,
   "metadata": {},
   "outputs": [],
   "source": [
    "from PyQt5 import QtWidgets, QtCore, QtGui\n",
    "# from math import sin, cos, pi # (already imported by pylab)\n",
    "# only execute the next cell once this cell has been completely executed (i.e., the `[*]` has turned into `[2]`)"
   ]
  },
  {
   "cell_type": "code",
   "execution_count": 6,
   "metadata": {},
   "outputs": [],
   "source": [
    "app = QtWidgets.QApplication(sys.argv)"
   ]
  },
  {
   "cell_type": "code",
   "execution_count": 7,
   "metadata": {},
   "outputs": [],
   "source": [
    "class QDrawWidget(QtWidgets.QWidget):\n",
    "    \n",
    "    def __init__(self, width=800, height=800):\n",
    "        super().__init__()\n",
    "        self.resize(width, height)\n",
    "        self.setFocusPolicy(QtCore.Qt.StrongFocus)\n",
    "        self.drawing = False\n",
    "        self.grid = True\n",
    "        self.points = []\n",
    "        self.setMouseTracking(True) # only get events when button is pressed\n",
    "        self.initUI()\n",
    "\n",
    "    def initUI(self):      \n",
    "        self.setWindowTitle('Drawable')\n",
    "        self.show()\n",
    "        \n",
    "    def mousePressEvent(self, ev):\n",
    "        if ev.button() == QtCore.Qt.LeftButton:\n",
    "            print(\"here\")\n",
    "            self.drawing = True\n",
    "            self.points = []\n",
    "            \n",
    "        elif ev.button() == QtCore.Qt.RightButton:\n",
    "            try:\n",
    "                self.points = custom_filter(self.points) # needs to be implemented outside!\n",
    "            except NameError:\n",
    "                pass\n",
    "            \n",
    "        self.update()\n",
    "            \n",
    "    def mouseReleaseEvent(self, ev):\n",
    "        if ev.button() == QtCore.Qt.LeftButton:\n",
    "            self.drawing = False\n",
    "            self.update() \n",
    "\n",
    "    def mouseMoveEvent(self, ev):\n",
    "        if self.drawing:\n",
    "            self.points.append((ev.x(), ev.y()))\n",
    "            self.update() \n",
    "    \n",
    "    def poly(self, pts):\n",
    "        return QtGui.QPolygonF(map(lambda p: QtCore.QPointF(*p), pts))\n",
    "\n",
    "    def paintEvent(self, ev):\n",
    "        qp = QtGui.QPainter()\n",
    "        qp.begin(self)\n",
    "        qp.setBrush(QtGui.QColor(0, 0, 0))\n",
    "        qp.drawRect(ev.rect())\n",
    "        qp.setBrush(QtGui.QColor(20, 255, 190))\n",
    "        qp.setPen(QtGui.QColor(0, 155, 0))\n",
    "        qp.drawPolyline(self.poly(self.points))\n",
    "        \n",
    "        for point in self.points:\n",
    "            qp.drawEllipse(point[0] - 1, point[1] - 1, 2, 2)\n",
    "        if self.grid:\n",
    "            qp.setPen(QtGui.QColor(255, 100, 100, 20))  # semi-transparent\n",
    "            \n",
    "            for x in range(0, self.width(), 20):\n",
    "                qp.drawLine(x, 0, x, self.height())\n",
    "                \n",
    "            for y in range(0, self.height(), 20):\n",
    "                qp.drawLine(0, y, self.width(), y)\n",
    "                \n",
    "        qp.end()"
   ]
  },
  {
   "cell_type": "code",
   "execution_count": 8,
   "metadata": {},
   "outputs": [],
   "source": [
    "dw = QDrawWidget() # a new window should open - draw into it!"
   ]
  },
  {
   "cell_type": "code",
   "execution_count": 9,
   "metadata": {},
   "outputs": [],
   "source": [
    "def distance(p1,p2):\n",
    "    # basic vector norm\n",
    "    \n",
    "    dx = p1[0] - p2[0]\n",
    "    dy = p1[1] - p2[1]\n",
    "    \n",
    "    return sqrt(dx * dx + dy * dy)\n",
    "\n",
    "def total_length(point_list):\n",
    "    # calculate the sum of the distances of all points along the drawn stroke\n",
    "    \n",
    "    p1 = point_list[0]\n",
    "    length = 0.0\n",
    "    \n",
    "    for i in range(1, len(point_list)):\n",
    "        length += distance(p1, point_list[i])\n",
    "        p1 = point_list[i]\n",
    "            \n",
    "    return length"
   ]
  },
  {
   "cell_type": "code",
   "execution_count": 10,
   "metadata": {},
   "outputs": [
    {
     "output_type": "stream",
     "name": "stdout",
     "text": [
      "692.476966951313\n10.991697888116079\n64\n"
     ]
    }
   ],
   "source": [
    "pl = [(454, 382), (456, 384), (459, 385), (463, 388), (473, 394), (480, 397), (489, 401), (493, 401), (504, 404), (530, 406), (553, 408), (561, 408), (588, 408), (603, 408), (621, 403), (654, 390), (707, 361), (740, 342), (803, 299), (822, 283), (872, 243), (901, 219), (927, 198), (948, 178), (975, 151), (988, 137), (994, 132), (1004, 122), (1011, 114), (1014, 112), (1019, 107), (1022, 104), (1024, 101), (1026, 100), (1027, 98), (1028, 97), (1030, 95), (1031, 94), (1032, 93)]\n",
    "\n",
    "def resample(point_list, step_count=64):\n",
    "    # resample the given stroke's list of points\n",
    "    # represent the stroke with the amount of step_count points\n",
    "    \n",
    "    # save here the resampled points\n",
    "    newpoints = []\n",
    "    \n",
    "    # the sum of the distances of all points along the originally drawn stroke\n",
    "    length = total_length(point_list)\n",
    "    \n",
    "    print(length)\n",
    "    \n",
    "    # the distance the resampled points have to each other\n",
    "    stepsize = length / (step_count - 1)\n",
    "    \n",
    "    print(stepsize)\n",
    "    \n",
    "    # current position along the strong in regard of step_size (see below)\n",
    "    curpos = 0\n",
    "    \n",
    "    # add the first point of the original stroke to the point list\n",
    "    newpoints.append(point_list[0])\n",
    "    \n",
    "    # iterate the stroke's point list\n",
    "    i = 1\n",
    "    while i < len(point_list):\n",
    "        p1 = point_list[i - 1]\n",
    "        \n",
    "        # calculate the distance of the current pair of points\n",
    "        d = distance(p1,point_list[i])        \n",
    "        \n",
    "        if curpos + d >= stepsize:\n",
    "            # once we reach or step over our desired distance, we push our resampled point\n",
    "            # to the correct position based on our stepsize\n",
    "            nx = p1[0] + ((stepsize - curpos) / d) * (point_list[i][0] - p1[0])\n",
    "            ny = p1[1] + ((stepsize - curpos) / d) * (point_list[i][1] - p1[1])\n",
    "                        \n",
    "            # store the new data\n",
    "            newpoints.append([nx,ny])\n",
    "            point_list.insert(i,[nx,ny])\n",
    "            \n",
    "            # reset curpos\n",
    "            curpos = 0\n",
    "        else:\n",
    "            curpos += d\n",
    "            \n",
    "        i += 1\n",
    "                        \n",
    "    return newpoints\n",
    "\n",
    "print(len(resample(pl)))"
   ]
  },
  {
   "cell_type": "code",
   "execution_count": 11,
   "metadata": {},
   "outputs": [],
   "source": [
    "def rotate(points, center, angle_degree):\n",
    "    new_points = []\n",
    "    \n",
    "    # represent our angle in radians\n",
    "    angle_rad = angle_degree * (pi / 180)\n",
    "    \n",
    "    # define a 3x3 rotation matrix for clockwise rotation \n",
    "    rot_matrix = matrix([[cos(angle_rad), -sin(angle_rad), 0],\n",
    "                         [sin(angle_rad),  cos(angle_rad), 0], \n",
    "                         [      0,               0,        1]])\n",
    "    \n",
    "    t1 = matrix([[1, 0, -center[0]], \n",
    "                 [0, 1, -center[1]],\n",
    "                 [0, 0,     1     ]])\n",
    "    \n",
    "    t2 = matrix([[1, 0,  center[0]], \n",
    "                 [0, 1,  center[1]],\n",
    "                 [0, 0,     1     ]])\n",
    "    \n",
    "    # create our actual transformation matrix which rotates a point of points around the center of points\n",
    "    transform = t2  @ rot_matrix @ t1 # beware of the order of multiplications, not commutative!\n",
    "    \n",
    "    for point in points:\n",
    "        \n",
    "        # homogenous point of the point to be rotated\n",
    "        hom_point = matrix([[point[0]], [point[1]], [1]])  \n",
    "        \n",
    "        # rotated point\n",
    "        rotated_point = transform @ hom_point\n",
    "        \n",
    "        # storing\n",
    "        new_points.append(( (rotated_point[0] / rotated_point[2]),float(rotated_point[1] / rotated_point[2])))\n",
    "        \n",
    "    return new_points"
   ]
  },
  {
   "cell_type": "code",
   "execution_count": 12,
   "metadata": {},
   "outputs": [],
   "source": [
    "def centroid(points):\n",
    "    xs, ys = zip(*points)\n",
    "    \n",
    "    return (sum(xs) / len(xs), sum(ys) / len(ys))"
   ]
  },
  {
   "cell_type": "code",
   "execution_count": 13,
   "metadata": {},
   "outputs": [],
   "source": [
    "def angle_between(point, centroid):\n",
    "    dx = centroid[0] - point[0]\n",
    "    dy = centroid[1] - point[1]\n",
    "    \n",
    "    # return the angle in degrees\n",
    "    return math.atan2(dy, dx) * 180 / math.pi \n",
    "\n",
    "assert(angle_between((-10, -10), (0,0)) == 45.0) \n",
    "# some 'unit testing' whether the function does what it is supposed to do"
   ]
  },
  {
   "cell_type": "code",
   "execution_count": 14,
   "metadata": {},
   "outputs": [],
   "source": [
    "def scale(points):\n",
    "    \n",
    "    # the desired interval size\n",
    "    size = 100\n",
    "    \n",
    "    xs, ys = zip(*points)\n",
    "    \n",
    "    # minimum and maximum occurrences of x and y values of the points\n",
    "    x_min, x_max = min(xs), max(xs)\n",
    "    y_min, y_max = min(ys), max(ys)\n",
    "    \n",
    "    # calculate the range of the coordinates of the points\n",
    "    x_range = x_max - x_min\n",
    "    y_range = y_max - y_min\n",
    "    \n",
    "    points_new = []\n",
    "    \n",
    "    # map the points to the desired interval\n",
    "    for p in points:\n",
    "        p_new = ((p[0] - x_min) * size / x_range,\n",
    "                 (p[1] - y_min) * size / y_range)\n",
    "        points_new.append(p_new)\n",
    "        \n",
    "    return points_new\n",
    "    "
   ]
  },
  {
   "cell_type": "code",
   "execution_count": 15,
   "metadata": {},
   "outputs": [],
   "source": [
    "def normalize(points):\n",
    "    # use all the processing functions from above to transform our set of points into the desired shape\n",
    "    points_new = resample(points)\n",
    "    angle = -angle_between(points_new[0], centroid(points_new))\n",
    "    points_new = rotate(points_new, centroid(points_new), angle)\n",
    "    points_new = scale(points_new)\n",
    "    \n",
    "    return points_new"
   ]
  },
  {
   "cell_type": "code",
   "execution_count": 16,
   "metadata": {},
   "outputs": [],
   "source": [
    "def custom_filter(points):\n",
    "    return(normalize(points))\n",
    "\n",
    "# set the draw widgets custom filter variable to the function of the same way which applies our transformation stack\n",
    "dw.custom_filter = custom_filter"
   ]
  },
  {
   "cell_type": "code",
   "execution_count": 17,
   "metadata": {},
   "outputs": [
    {
     "output_type": "error",
     "ename": "IndexError",
     "evalue": "list index out of range",
     "traceback": [
      "\u001b[0;31m---------------------------------------------------------------------------\u001b[0m",
      "\u001b[0;31mIndexError\u001b[0m                                Traceback (most recent call last)",
      "\u001b[0;32m<ipython-input-17-e9d8740b064a>\u001b[0m in \u001b[0;36m<module>\u001b[0;34m\u001b[0m\n\u001b[1;32m      2\u001b[0m     \u001b[0;32mreturn\u001b[0m \u001b[0mlist\u001b[0m\u001b[0;34m(\u001b[0m\u001b[0mmap\u001b[0m\u001b[0;34m(\u001b[0m\u001b[0mlist\u001b[0m\u001b[0;34m,\u001b[0m \u001b[0mzip\u001b[0m\u001b[0;34m(\u001b[0m\u001b[0;34m*\u001b[0m\u001b[0mpoints\u001b[0m\u001b[0;34m)\u001b[0m\u001b[0;34m)\u001b[0m\u001b[0;34m)\u001b[0m\u001b[0;34m\u001b[0m\u001b[0;34m\u001b[0m\u001b[0m\n\u001b[1;32m      3\u001b[0m \u001b[0;34m\u001b[0m\u001b[0m\n\u001b[0;32m----> 4\u001b[0;31m \u001b[0mplot\u001b[0m\u001b[0;34m(\u001b[0m\u001b[0mtranspose_points\u001b[0m\u001b[0;34m(\u001b[0m\u001b[0mdw\u001b[0m\u001b[0;34m.\u001b[0m\u001b[0mpoints\u001b[0m\u001b[0;34m)\u001b[0m\u001b[0;34m[\u001b[0m\u001b[0;36m0\u001b[0m\u001b[0;34m]\u001b[0m\u001b[0;34m,\u001b[0m \u001b[0mtranspose_points\u001b[0m\u001b[0;34m(\u001b[0m\u001b[0mdw\u001b[0m\u001b[0;34m.\u001b[0m\u001b[0mpoints\u001b[0m\u001b[0;34m)\u001b[0m\u001b[0;34m[\u001b[0m\u001b[0;36m0\u001b[0m\u001b[0;34m]\u001b[0m\u001b[0;34m)\u001b[0m\u001b[0;34m\u001b[0m\u001b[0;34m\u001b[0m\u001b[0m\n\u001b[0m",
      "\u001b[0;31mIndexError\u001b[0m: list index out of range"
     ]
    }
   ],
   "source": [
    "def transpose_points(points):\n",
    "    return list(map(list, zip(*points)))\n",
    "\n",
    "plot(transpose_points(dw.points)[0], transpose_points(dw.points)[1])"
   ]
  },
  {
   "cell_type": "code",
   "execution_count": null,
   "metadata": {},
   "outputs": [],
   "source": [
    "# screen coordinates vs draw widget coordinates ( y inverted! )\n",
    "s1 = normalize([(-1,0), (0,-1), (1,0), (0,1)])\n",
    "\n",
    "# shape:\n",
    "# \n",
    "#   /\\\n",
    "#    /\n",
    "#\n",
    "\n",
    "#print(s1)"
   ]
  },
  {
   "cell_type": "code",
   "execution_count": null,
   "metadata": {},
   "outputs": [],
   "source": [
    "def calculate_similarity(sample, template):\n",
    "    dist_all = 0\n",
    "    for p1, p2 in zip(sample,template):\n",
    "        dist = abs(p1[0] - p2[0]) + abs(p1[1] - p2[1])\n",
    "        dist_all += dist\n",
    "    return dist_all"
   ]
  },
  {
   "cell_type": "code",
   "execution_count": 15,
   "metadata": {},
   "outputs": [
    {
     "output_type": "error",
     "ename": "NameError",
     "evalue": "name 'calculate_similarity' is not defined",
     "traceback": [
      "\u001b[0;31m---------------------------------------------------------------------------\u001b[0m",
      "\u001b[0;31mNameError\u001b[0m                                 Traceback (most recent call last)",
      "\u001b[0;32m<ipython-input-15-bc41934b6b85>\u001b[0m in \u001b[0;36m<module>\u001b[0;34m\u001b[0m\n\u001b[0;32m----> 1\u001b[0;31m \u001b[0msim\u001b[0m \u001b[0;34m=\u001b[0m \u001b[0mcalculate_similarity\u001b[0m\u001b[0;34m(\u001b[0m\u001b[0ms1\u001b[0m\u001b[0;34m,\u001b[0m \u001b[0mnormalize\u001b[0m\u001b[0;34m(\u001b[0m\u001b[0mdw\u001b[0m\u001b[0;34m.\u001b[0m\u001b[0mpoints\u001b[0m\u001b[0;34m)\u001b[0m\u001b[0;34m)\u001b[0m\u001b[0;34m\u001b[0m\u001b[0;34m\u001b[0m\u001b[0m\n\u001b[0m\u001b[1;32m      2\u001b[0m \u001b[0mprint\u001b[0m\u001b[0;34m(\u001b[0m\u001b[0;34m\"print:\"\u001b[0m\u001b[0;34m,\u001b[0m \u001b[0msim\u001b[0m\u001b[0;34m)\u001b[0m\u001b[0;34m\u001b[0m\u001b[0;34m\u001b[0m\u001b[0m\n",
      "\u001b[0;31mNameError\u001b[0m: name 'calculate_similarity' is not defined"
     ]
    }
   ],
   "source": [
    "sim = calculate_similarity(s1, normalize(dw.points))\n",
    "print(\"print:\", sim)"
   ]
  },
  {
   "cell_type": "code",
   "execution_count": null,
   "metadata": {},
   "outputs": [],
   "source": []
  },
  {
   "cell_type": "code",
   "execution_count": null,
   "metadata": {},
   "outputs": [],
   "source": []
  },
  {
   "cell_type": "code",
   "execution_count": null,
   "metadata": {},
   "outputs": [],
   "source": []
  }
 ],
 "metadata": {
  "kernelspec": {
   "name": "python3",
   "display_name": "Python 3.8.5 64-bit"
  },
  "language_info": {
   "codemirror_mode": {
    "name": "ipython",
    "version": 3
   },
   "file_extension": ".py",
   "mimetype": "text/x-python",
   "name": "python",
   "nbconvert_exporter": "python",
   "pygments_lexer": "ipython3",
   "version": "3.8.5"
  },
  "interpreter": {
   "hash": "916dbcbb3f70747c44a77c7bcd40155683ae19c65e1c03b4aa3499c5328201f1"
  }
 },
 "nbformat": 4,
 "nbformat_minor": 4
}